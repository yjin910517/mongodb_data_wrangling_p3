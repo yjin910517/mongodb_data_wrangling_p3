{
 "cells": [
  {
   "cell_type": "code",
   "execution_count": 1,
   "metadata": {
    "collapsed": true
   },
   "outputs": [],
   "source": [
    "import xml.etree.cElementTree as ET\n",
    "import re\n",
    "import pprint\n",
    "from collections import defaultdict\n",
    "import os"
   ]
  },
  {
   "cell_type": "markdown",
   "metadata": {},
   "source": [
    "#### Notes:\n",
    "Original osm data file is too big to be submitted with this report, you can download it from [Shanghai metro extract](https://mapzen.com/data/metro-extracts/metro/shanghai_china/).\n",
    "\n",
    "#### Index:\n",
    "1. Generate sample osm file\n",
    "2. Preliminary inspection\n",
    "3. Clean and import data to MongoDB\n",
    "4. Further cleaning in MongoDB\n",
    "5. File summary & data exploration"
   ]
  },
  {
   "cell_type": "markdown",
   "metadata": {},
   "source": [
    "## Part 1: Generate sample osm file"
   ]
  },
  {
   "cell_type": "markdown",
   "metadata": {},
   "source": [
    "Code below will generate a 1/100 sample from original xml file (Generated sample file is already in the folder)."
   ]
  },
  {
   "cell_type": "code",
   "execution_count": 2,
   "metadata": {
    "collapsed": true
   },
   "outputs": [],
   "source": [
    "OSM_FILE = \"shanghai_china.osm\"\n",
    "SAMPLE_FILE = \"shanghai_sample.osm\"\n",
    "\n",
    "k = 100 # Parameter: take every k-th top level element\n",
    "\n",
    "def get_element(osm_file, tags=('node', 'way', 'relation')):\n",
    "    '''\n",
    "    Args:\n",
    "        osm_file: original osm to sample from\n",
    "        tags: types of tag to extract\n",
    "    Returns:\n",
    "        an extracted element\n",
    "    '''\n",
    "    context = iter(ET.iterparse(osm_file, events=('start', 'end')))\n",
    "    _, root = next(context)\n",
    "    for event, elem in context:\n",
    "        if event == 'end' and elem.tag in tags:\n",
    "            yield elem\n",
    "            root.clear()\n",
    "\n",
    "\n",
    "with open(SAMPLE_FILE, 'wb') as output:\n",
    "    output.write('<?xml version=\"1.0\" encoding=\"UTF-8\"?>\\n'.encode('utf-8'))\n",
    "    output.write('<osm>\\n  '.encode('utf-8'))\n",
    "\n",
    "    # Write every kth top level element\n",
    "    for i, element in enumerate(get_element(OSM_FILE)):\n",
    "        if i % k == 0:\n",
    "            output.write(ET.tostring(element, encoding='utf-8'))\n",
    "            \n",
    "    output.write('</osm>'.encode('utf-8'))"
   ]
  },
  {
   "cell_type": "markdown",
   "metadata": {},
   "source": [
    "## Part 2: Preliminary inspection"
   ]
  },
  {
   "cell_type": "markdown",
   "metadata": {},
   "source": [
    "Before conducting data cleaning and import to mongoDB, let's take a quick look on the sampled osm xml data:"
   ]
  },
  {
   "cell_type": "code",
   "execution_count": 3,
   "metadata": {
    "collapsed": false
   },
   "outputs": [
    {
     "data": {
      "text/plain": [
       "defaultdict(int,\n",
       "            {'member': 338,\n",
       "             'nd': 37405,\n",
       "             'node': 31365,\n",
       "             'osm': 1,\n",
       "             'relation': 25,\n",
       "             'tag': 11229,\n",
       "             'way': 3860})"
      ]
     },
     "execution_count": 3,
     "metadata": {},
     "output_type": "execute_result"
    }
   ],
   "source": [
    "def count_tags(filename):\n",
    "    '''\n",
    "    Args: \n",
    "        filename: an osm file\n",
    "    Returns:\n",
    "        a dictionary:\n",
    "            key: the tag names found in the osm file\n",
    "            value: count of each tag in the osm file\n",
    "        \n",
    "    '''\n",
    "    result=defaultdict(int)\n",
    "    for event, elem in ET.iterparse(filename):\n",
    "        result[elem.tag]+=1\n",
    "        \n",
    "    return result\n",
    "\n",
    "count_tags('shanghai_sample.osm')"
   ]
  },
  {
   "cell_type": "markdown",
   "metadata": {},
   "source": [
    "Since most real data are stored in the 'tag' tag, let's take a closer look of 'tag':"
   ]
  },
  {
   "cell_type": "code",
   "execution_count": 4,
   "metadata": {
    "collapsed": false
   },
   "outputs": [
    {
     "name": "stdout",
     "output_type": "stream",
     "text": [
      "gns:DSG / ADM3\n",
      "gns:UFI / -1910407\n",
      "gns:UNI / 6719592\n",
      "gns:ADM1 / 23\n",
      "gns:DSG / ADM4\n",
      "gns:UFI / 10077134\n",
      "gns:UNI / 10275248\n",
      "gns:ADM1 / 04\n",
      "gns:DSG / ADM3\n",
      "gns:UFI / 9264839\n",
      "gns:UNI / 9346612\n",
      "gns:ADM1 / 02\n",
      "generator:output:electricity / 610 MW\n",
      "name:zh-hant / 蔡倫路\n",
      "name:zh-hant / 橫沔江路\n",
      "name:zh-hant / 孫橋路\n",
      "name:zh-hant / 羅山高架路\n",
      "name:zh-hant / 層林路\n",
      "name:zh-hant / 兩港大道\n",
      "name:zh-hant / 南蘆公路\n",
      "name:zh-hant / 兩港大道\n",
      "name:zh-hant / 嘉澤路\n",
      "width:lanes:end / 3.09|3.11|3.18|3.08|2.22\n",
      "width:lanes:start / 3.09|3.11|3.18|3.08|2.22\n",
      "name:zh-hant / 羅山高架路\n",
      "addr:street:en / East Zhongshan No. 1 Road\n"
     ]
    },
    {
     "data": {
      "text/plain": [
       "{'lower': 10171, 'lower_colon': 1032, 'other': 26, 'problemchars': 0}"
      ]
     },
     "execution_count": 4,
     "metadata": {},
     "output_type": "execute_result"
    }
   ],
   "source": [
    "lower = re.compile(r'^([a-z]|_)*$')\n",
    "lower_colon = re.compile(r'^([a-z]|_)*:([a-z]|_)*$')\n",
    "problemchars = re.compile(r'[=\\+/&<>;\\'\"\\?%#$@\\,\\.\\t\\r\\n]')\n",
    "\n",
    "def key_type(element, keys):\n",
    "    '''\n",
    "    Args:\n",
    "        element: an element extract from osm file by ET.interparse()\n",
    "        keys: a dictionary that contains pre-defined key types and their counts\n",
    "    Returns:\n",
    "        an updated dictionary with the element categorized\n",
    "    '''\n",
    "    if element.tag == \"tag\":\n",
    "        key=element.attrib['k']\n",
    "        if lower.search(key)!=None:\n",
    "            keys['lower']+=1\n",
    "        elif lower_colon.search(key)!=None:\n",
    "            keys['lower_colon']+=1\n",
    "        elif problemchars.search(key)!=None:\n",
    "            keys['problemchars']+=1\n",
    "        else:\n",
    "            keys['other']+=1\n",
    "            print(key,\"/\",element.attrib['v'])\n",
    "    return keys\n",
    "\n",
    "def check_key(filename):\n",
    "    '''\n",
    "    Args:\n",
    "        filename: an osm file\n",
    "    Returns:\n",
    "        adopt key_types() function on every element of input file and return the final summary dictionary\n",
    "    '''\n",
    "    keys = {\"lower\": 0, \"lower_colon\": 0, \"problemchars\": 0, \"other\": 0}\n",
    "    for _, element in ET.iterparse(filename):\n",
    "        keys = key_type(element, keys)\n",
    "    return keys\n",
    "\n",
    "check_key('shanghai_sample.osm')"
   ]
  },
  {
   "cell_type": "markdown",
   "metadata": {},
   "source": [
    "- Seems most tag's k attribute has the 'lower' or 'lower_colon' format, no k attribute contains problematic charaters.\n",
    "- There are 26 attributes fall into 'other' category, which are printed out with 'k value/ v value' format. Those results remind me to replace \":\" and \"-\" during data cleaning."
   ]
  },
  {
   "cell_type": "markdown",
   "metadata": {},
   "source": [
    "---\n",
    "Let's check how many kinds of k tags appeared in this sample:"
   ]
  },
  {
   "cell_type": "code",
   "execution_count": 5,
   "metadata": {
    "collapsed": false
   },
   "outputs": [
    {
     "data": {
      "text/plain": [
       "defaultdict(int,\n",
       "            {'access': 25,\n",
       "             'addr:city': 18,\n",
       "             'addr:door': 1,\n",
       "             'addr:housename': 7,\n",
       "             'addr:housenumber': 44,\n",
       "             'addr:interpolation': 2,\n",
       "             'addr:neighbourhood': 1,\n",
       "             'addr:postcode': 7,\n",
       "             'addr:street': 38,\n",
       "             'addr:street:en': 1,\n",
       "             'admin_level': 12,\n",
       "             'aeroway': 28,\n",
       "             'alt_name': 1,\n",
       "             'alt_name:vi': 1,\n",
       "             'amenity': 117,\n",
       "             'architect': 1,\n",
       "             'area': 10,\n",
       "             'atm': 3,\n",
       "             'attraction': 1,\n",
       "             'backrest': 2,\n",
       "             'barrier': 37,\n",
       "             'bench': 22,\n",
       "             'bicycle': 25,\n",
       "             'board_type': 1,\n",
       "             'boat': 5,\n",
       "             'boundary': 10,\n",
       "             'bridge': 366,\n",
       "             'building': 1178,\n",
       "             'building:colour': 13,\n",
       "             'building:levels': 81,\n",
       "             'building:material': 2,\n",
       "             'building:part': 19,\n",
       "             'built': 1,\n",
       "             'bus': 4,\n",
       "             'busway:right': 2,\n",
       "             'cables': 3,\n",
       "             'capacity': 4,\n",
       "             'china_class': 3,\n",
       "             'circuits': 2,\n",
       "             'code': 1,\n",
       "             'colour': 3,\n",
       "             'construction': 5,\n",
       "             'created_by': 290,\n",
       "             'crossing': 2,\n",
       "             'crossing_ref': 1,\n",
       "             'cuisine': 5,\n",
       "             'cutting': 1,\n",
       "             'cycleway': 29,\n",
       "             'cycleway:right': 17,\n",
       "             'designation': 1,\n",
       "             'ele': 1,\n",
       "             'electrified': 25,\n",
       "             'embankment': 4,\n",
       "             'emergency': 1,\n",
       "             'entrance': 3,\n",
       "             'fee': 3,\n",
       "             'fixme': 2,\n",
       "             'flagfp': 4,\n",
       "             'foot': 29,\n",
       "             'footway': 8,\n",
       "             'frequency': 22,\n",
       "             'from': 2,\n",
       "             'from:en': 2,\n",
       "             'gauge': 29,\n",
       "             'generator:method': 1,\n",
       "             'generator:output': 1,\n",
       "             'generator:output:electricity': 1,\n",
       "             'generator:source': 5,\n",
       "             'generator:type': 1,\n",
       "             'gns:ADM1': 3,\n",
       "             'gns:DSG': 3,\n",
       "             'gns:UFI': 3,\n",
       "             'gns:UNI': 3,\n",
       "             'golf': 1,\n",
       "             'goods': 1,\n",
       "             'height': 53,\n",
       "             'hgv': 1,\n",
       "             'highspeed': 7,\n",
       "             'highway': 2238,\n",
       "             'historic_name': 4,\n",
       "             'horse': 2,\n",
       "             'information': 1,\n",
       "             'int_name': 48,\n",
       "             'int_ref': 8,\n",
       "             'is_in': 1,\n",
       "             'junction': 2,\n",
       "             'landuse': 113,\n",
       "             'lanes': 324,\n",
       "             'lanes:end': 4,\n",
       "             'lanes:start': 4,\n",
       "             'layer': 323,\n",
       "             'leaf_cycle': 33,\n",
       "             'leaf_type': 33,\n",
       "             'leisure': 59,\n",
       "             'length': 1,\n",
       "             'level': 2,\n",
       "             'line': 1,\n",
       "             'lit': 22,\n",
       "             'location': 5,\n",
       "             'man_made': 25,\n",
       "             'material': 3,\n",
       "             'maxheight': 1,\n",
       "             'maxspeed': 43,\n",
       "             'min_height': 6,\n",
       "             'mofa': 1,\n",
       "             'moped': 1,\n",
       "             'motor_vehicle': 6,\n",
       "             'motorcar': 2,\n",
       "             'motorcycle': 2,\n",
       "             'motorroad': 3,\n",
       "             'name': 912,\n",
       "             'name:de': 1,\n",
       "             'name:en': 448,\n",
       "             'name:fr': 1,\n",
       "             'name:ja': 2,\n",
       "             'name:ko': 2,\n",
       "             'name:vi': 4,\n",
       "             'name:zh': 64,\n",
       "             'name:zh-hant': 10,\n",
       "             'name:zh_pinyin': 54,\n",
       "             'natural': 119,\n",
       "             'network': 43,\n",
       "             'note': 6,\n",
       "             'nsdi_code': 1,\n",
       "             'office': 5,\n",
       "             'old_name': 2,\n",
       "             'old_name:en': 1,\n",
       "             'old_ref': 15,\n",
       "             'oneway': 739,\n",
       "             'oneway:bicycle': 3,\n",
       "             'opening_hours': 1,\n",
       "             'operator': 14,\n",
       "             'parking': 2,\n",
       "             'payment:cash': 1,\n",
       "             'payment:public_transportation_cards': 1,\n",
       "             'payment:telephone_cards': 1,\n",
       "             'phone': 1,\n",
       "             'place': 17,\n",
       "             'power': 414,\n",
       "             'psv': 1,\n",
       "             'public_transport': 11,\n",
       "             'public_transport:version': 2,\n",
       "             'railway': 92,\n",
       "             'recycling_type': 1,\n",
       "             'ref': 243,\n",
       "             'ref:en': 1,\n",
       "             'religion': 2,\n",
       "             'restriction': 2,\n",
       "             'roof:colour': 59,\n",
       "             'roof:levels': 45,\n",
       "             'roof:orientation': 1,\n",
       "             'roof:shape': 57,\n",
       "             'route': 5,\n",
       "             'route_master': 3,\n",
       "             'route_ref': 1,\n",
       "             'seats': 1,\n",
       "             'segregated': 5,\n",
       "             'service': 47,\n",
       "             'service_frequency': 1,\n",
       "             'service_times': 1,\n",
       "             'shelter': 22,\n",
       "             'shop': 28,\n",
       "             'ski': 1,\n",
       "             'snowmobile': 1,\n",
       "             'source': 1347,\n",
       "             'source:name': 7,\n",
       "             'sport': 13,\n",
       "             'start_date': 2,\n",
       "             'stopping': 2,\n",
       "             'subway': 5,\n",
       "             'surface': 39,\n",
       "             'taxi': 1,\n",
       "             'ticket_price': 1,\n",
       "             'to': 2,\n",
       "             'to:en': 2,\n",
       "             'toilets:disposal': 1,\n",
       "             'toll': 3,\n",
       "             'tourism': 15,\n",
       "             'tower:type': 1,\n",
       "             'tracktype': 2,\n",
       "             'traffic_calming': 35,\n",
       "             'tunnel': 18,\n",
       "             'type': 32,\n",
       "             'usage': 16,\n",
       "             'voltage': 25,\n",
       "             'water': 9,\n",
       "             'waterway': 117,\n",
       "             'website': 10,\n",
       "             'website:en': 2,\n",
       "             'wheelchair': 3,\n",
       "             'width': 2,\n",
       "             'width:lanes:end': 1,\n",
       "             'width:lanes:start': 1,\n",
       "             'wikidata': 2,\n",
       "             'wikipedia': 2,\n",
       "             'zhb_code': 1})"
      ]
     },
     "execution_count": 5,
     "metadata": {},
     "output_type": "execute_result"
    }
   ],
   "source": [
    "def count_tag_k(filename):\n",
    "    '''\n",
    "    Args:\n",
    "        filename: an osm file\n",
    "    Returns:\n",
    "        a dictionary with the count of each tag name\n",
    "    '''\n",
    "    result=defaultdict(int)\n",
    "    for event, elem in ET.iterparse(filename):\n",
    "        if (elem.tag=='tag'):\n",
    "            result[elem.attrib['k']]+=1\n",
    "    return result\n",
    "\n",
    "count_tag_k('shanghai_sample.osm')"
   ]
  },
  {
   "cell_type": "markdown",
   "metadata": {},
   "source": [
    "Two major findings:\n",
    "- The data would be better organized if all the attributes with prefix 'addr:' are grouped into 'address' collection, all the attributes with prefix 'building' are grouped into 'building_info'\n",
    "- Name are recorded in different languages, they should be grouped into one 'name' collection"
   ]
  },
  {
   "cell_type": "markdown",
   "metadata": {},
   "source": [
    "---\n",
    "Besides attributes mentioned above, two attributes' frequency exceeds 1000 in this sample data, they are 'highway' and 'source'. Let's take of look of the values of those two attributes:"
   ]
  },
  {
   "cell_type": "code",
   "execution_count": 6,
   "metadata": {
    "collapsed": false
   },
   "outputs": [
    {
     "data": {
      "text/plain": [
       "defaultdict(int,\n",
       "            {'Bing': 293,\n",
       "             'Bing 2010': 2,\n",
       "             'Bing Imagery': 1,\n",
       "             'Bing,2009-12': 1,\n",
       "             'Bing,2012-1': 1,\n",
       "             'Bing,2013-11': 2,\n",
       "             'China Data Center, University of Michigan': 2,\n",
       "             'GISmaps/std': 2,\n",
       "             'GNS': 1,\n",
       "             'GPS': 64,\n",
       "             'GPS + Bing': 1,\n",
       "             'GPS track in OSM': 1,\n",
       "             'GPS+Bing': 1,\n",
       "             'Lakewalker / Landsat': 1,\n",
       "             'Landsat': 1,\n",
       "             'Mapbox': 1,\n",
       "             'PGS': 881,\n",
       "             'Strava': 1,\n",
       "             'Yahoo': 1,\n",
       "             'Yahoo hires': 5,\n",
       "             'Yahoo imagery': 1,\n",
       "             'bing': 60,\n",
       "             'bing,2010': 1,\n",
       "             'bing_imagery': 1,\n",
       "             'estimated': 2,\n",
       "             'estimation': 5,\n",
       "             'extrapolation': 1,\n",
       "             'https://upload.wikimedia.org/wikipedia/commons/b/b5/Administrative_Division_Jiaxing.png': 1,\n",
       "             'interpolation': 2,\n",
       "             'local_knowledge': 1,\n",
       "             'osm-gpx': 3,\n",
       "             \"potlatch's P-key\": 1,\n",
       "             'scanaerial': 1,\n",
       "             'survey': 4})"
      ]
     },
     "execution_count": 6,
     "metadata": {},
     "output_type": "execute_result"
    }
   ],
   "source": [
    "def check_value(filename,value):\n",
    "    '''\n",
    "    Args:\n",
    "        filename: an osm file\n",
    "        value: a string as the name of the tag to summarise\n",
    "    Returns:\n",
    "        a dictionary with the count of the contents of chosen tag\n",
    "    '''\n",
    "    result=defaultdict(int)\n",
    "    for event, elem in ET.iterparse(filename):\n",
    "        if (elem.tag=='tag'):\n",
    "            if elem.attrib['k']==value:\n",
    "                result[elem.attrib['v']]+=1\n",
    "    return result\n",
    "\n",
    "check_value('shanghai_sample.osm','source')"
   ]
  },
  {
   "cell_type": "markdown",
   "metadata": {},
   "source": [
    "There are some major sources, such as Bing and GPS, seems those values can be cleaned and grouped into standardized categories."
   ]
  },
  {
   "cell_type": "code",
   "execution_count": 7,
   "metadata": {
    "collapsed": false
   },
   "outputs": [
    {
     "data": {
      "text/plain": [
       "defaultdict(int,\n",
       "            {'bus_stop': 59,\n",
       "             'construction': 5,\n",
       "             'crossing': 48,\n",
       "             'cycleway': 15,\n",
       "             'footway': 83,\n",
       "             'living_street': 8,\n",
       "             'motorway': 130,\n",
       "             'motorway_junction': 6,\n",
       "             'motorway_link': 73,\n",
       "             'path': 27,\n",
       "             'pedestrian': 14,\n",
       "             'primary': 165,\n",
       "             'primary_link': 34,\n",
       "             'residential': 429,\n",
       "             'road': 5,\n",
       "             'secondary': 222,\n",
       "             'secondary_link': 15,\n",
       "             'service': 264,\n",
       "             'steps': 10,\n",
       "             'tertiary': 287,\n",
       "             'tertiary_link': 2,\n",
       "             'track': 26,\n",
       "             'traffic_signals': 31,\n",
       "             'trunk': 35,\n",
       "             'trunk_link': 17,\n",
       "             'turning_circle': 1,\n",
       "             'unclassified': 227})"
      ]
     },
     "execution_count": 7,
     "metadata": {},
     "output_type": "execute_result"
    }
   ],
   "source": [
    "check_value('shanghai_sample.osm','highway')"
   ]
  },
  {
   "cell_type": "markdown",
   "metadata": {},
   "source": [
    "Values of 'highway' is cleaner, I don't have better idea to organize it, so let's just leave it that way."
   ]
  },
  {
   "cell_type": "markdown",
   "metadata": {},
   "source": [
    "## Part 3: Clean and import data to MongoDB"
   ]
  },
  {
   "cell_type": "code",
   "execution_count": 8,
   "metadata": {
    "collapsed": true
   },
   "outputs": [],
   "source": [
    "import pymongo\n",
    "from pymongo import MongoClient\n",
    "import pprint\n",
    "import codecs\n",
    "import json"
   ]
  },
  {
   "cell_type": "markdown",
   "metadata": {},
   "source": [
    "First Let's create some functions to clean up raw data according to findings from earlier observations:"
   ]
  },
  {
   "cell_type": "code",
   "execution_count": 9,
   "metadata": {
    "collapsed": true
   },
   "outputs": [],
   "source": [
    "lower = re.compile(r'^([a-z]|_)*$')\n",
    "lower_colon = re.compile(r'^([a-z]|_)*:([a-z]|_)*$')\n",
    "problemchars = re.compile(r'[=\\+/&<>;\\'\"\\?%#$@\\,\\. \\t\\r\\n]')\n",
    "\n",
    "CREATED = [ \"version\", \"changeset\", \"timestamp\", \"user\", \"uid\"]\n",
    "\n",
    "def source_clean(source):\n",
    "    '''\n",
    "    Args: \n",
    "        source: a string representing the content of a 'source' tag\n",
    "    Returns:\n",
    "        a standardized string as the new content\n",
    "    '''\n",
    "    if source[:4].lower()=='bing':\n",
    "        return 'Bing'\n",
    "    elif source[:5].lower()=='yahoo':\n",
    "        return 'Yahoo'\n",
    "    elif source[:3]=='GPS':\n",
    "        return 'GPS'\n",
    "    else:\n",
    "        return source\n",
    "\n",
    "\n",
    "def shape_element(element):\n",
    "    '''\n",
    "    Args:\n",
    "        element: an element extracted from an osm file\n",
    "    Returns:\n",
    "        a JSON node containing the cleaned element data\n",
    "    '''\n",
    "    node = {}\n",
    "    if element.tag in [\"node\",\"way\",\"relation\"]:\n",
    "        node['type']=element.tag\n",
    "        node['created']={}\n",
    "        for item in element.attrib:\n",
    "            if (item in CREATED):\n",
    "                node['created'][item]=element.attrib[item]\n",
    "            elif (item=='lat')|(item=='lon'):\n",
    "                pos=[float(element.attrib['lat']),float(element.attrib['lon'])]\n",
    "                node['pos']=pos\n",
    "            else:\n",
    "                node[item]=element.attrib[item]\n",
    "            \n",
    "        address={}\n",
    "        building={}\n",
    "        name={}\n",
    "        for tag in element.iter('tag'):\n",
    "            # Abandon data with problematic characters \n",
    "            if problemchars.search(tag.attrib['k'])!=None:\n",
    "                next\n",
    "                \n",
    "            # Grouping Address info\n",
    "            elif tag.attrib['k'][:5]=='addr:':\n",
    "                address[tag.attrib['k'][5:].replace(\":\",\"_\")]=tag.attrib['v']\n",
    "                \n",
    "            # Grouping Name info\n",
    "            elif tag.attrib['k']=='name':\n",
    "                name['zh']=tag.attrib['v']\n",
    "            elif tag.attrib['k'][:5]=='name:':\n",
    "                name[tag.attrib['k'][5:].replace(\":\",\"_\")]=tag.attrib['v']\n",
    "            \n",
    "            # Grouping Building info\n",
    "            elif tag.attrib['k'][:8]=='building':\n",
    "                if tag.attrib['k']=='building':\n",
    "                    building['building']=tag.attrib['v']\n",
    "                else:\n",
    "                    building[tag.attrib['k'][9:].replace(\":\",\"_\")]=tag.attrib['v']                \n",
    "            \n",
    "            # Cleaning source content\n",
    "            elif tag.attrib['k'][:6]=='source':\n",
    "                node['source']=source_clean(tag.attrib['v'])\n",
    "                \n",
    "            # Replace colon with underscore to create valid name\n",
    "            else:\n",
    "                node[tag.attrib['k'].replace(\":\",\"_\")]=tag.attrib['v']\n",
    "                \n",
    "        if address!={}:\n",
    "            node['address']=address\n",
    "        if name!={}:\n",
    "            node['name']=name\n",
    "        if building!={}:\n",
    "            node['building']=building\n",
    "            \n",
    "        node_refs=[]\n",
    "        for nd in element.iter('nd'):\n",
    "            node_refs.append(nd.attrib['ref'])\n",
    "        if node_refs!=[]:\n",
    "            node['node_refs']=node_refs\n",
    "        return node\n",
    "    else:\n",
    "        return None"
   ]
  },
  {
   "cell_type": "markdown",
   "metadata": {},
   "source": [
    "Then, let's created a function to fetch raw data from original osm file, clean them and save them into JSON file:"
   ]
  },
  {
   "cell_type": "code",
   "execution_count": 10,
   "metadata": {
    "collapsed": true
   },
   "outputs": [],
   "source": [
    "def process_map(file_in):\n",
    "    '''\n",
    "    Args:\n",
    "        file_in: an osm file\n",
    "    Returns:\n",
    "        None\n",
    "        this function iterate through the osm file, adopt shape_element() function on each element and save the output to a json file\n",
    "    '''\n",
    "    i=0\n",
    "    file_out = \"{0}.json\".format(file_in)\n",
    "    with codecs.open(file_out, \"w\") as fo:\n",
    "        fo.write('[')\n",
    "        for _, element in ET.iterparse(file_in):\n",
    "            el = shape_element(element)\n",
    "            if el:\n",
    "                if i==0:\n",
    "                    fo.write(json.dumps(el, indent=2)+\"\\n\")\n",
    "                else:\n",
    "                    fo.write(\",\"+json.dumps(el, indent=2)+\"\\n\")\n",
    "                i+=1\n",
    "                if i%10000==0:\n",
    "                    print(i/10000)\n",
    "                    \n",
    "        fo.write(']')\n",
    "\n",
    "        print(\"{} data entries saved to json file\".format(i))\n",
    "    return None"
   ]
  },
  {
   "cell_type": "markdown",
   "metadata": {},
   "source": [
    "It takes some time to run following function, use 'shanghai_sample.osm' instead if you just want to test the code."
   ]
  },
  {
   "cell_type": "code",
   "execution_count": null,
   "metadata": {
    "collapsed": true
   },
   "outputs": [],
   "source": [
    "process_map('shanghai_china.osm')"
   ]
  },
  {
   "cell_type": "markdown",
   "metadata": {},
   "source": [
    "Then, import the JSON file into MongoDB, database 'udacity_p3', collection 'shanghai_china':"
   ]
  },
  {
   "cell_type": "code",
   "execution_count": 11,
   "metadata": {
    "collapsed": true
   },
   "outputs": [],
   "source": [
    "# Mongod was already opened in separate command line window\n",
    "client = MongoClient()\n",
    "collection=client.udacity_p3.shanghai_china"
   ]
  },
  {
   "cell_type": "code",
   "execution_count": 12,
   "metadata": {
    "collapsed": false
   },
   "outputs": [
    {
     "data": {
      "text/plain": [
       "<pymongo.results.InsertManyResult at 0x25353691798>"
      ]
     },
     "execution_count": 12,
     "metadata": {},
     "output_type": "execute_result"
    }
   ],
   "source": [
    "with open('shanghai_china.osm.json') as data_file:    \n",
    "    data = json.load(data_file)\n",
    "collection.insert_many(data)"
   ]
  },
  {
   "cell_type": "code",
   "execution_count": 13,
   "metadata": {
    "collapsed": false
   },
   "outputs": [
    {
     "data": {
      "text/plain": [
       "3524981"
      ]
     },
     "execution_count": 13,
     "metadata": {},
     "output_type": "execute_result"
    }
   ],
   "source": [
    "collection.find().count()"
   ]
  },
  {
   "cell_type": "markdown",
   "metadata": {},
   "source": [
    "## Part 4: Further cleaning in MongoDB"
   ]
  },
  {
   "cell_type": "markdown",
   "metadata": {},
   "source": [
    "I have cleaned names of different languages earlier, now let's check whether we can further clean name types:"
   ]
  },
  {
   "cell_type": "code",
   "execution_count": 14,
   "metadata": {
    "collapsed": false
   },
   "outputs": [
    {
     "data": {
      "text/plain": [
       "94799"
      ]
     },
     "execution_count": 14,
     "metadata": {},
     "output_type": "execute_result"
    }
   ],
   "source": [
    "pipeline=[\n",
    "    {'$match':{'name':{'$exists':1}}},\n",
    "    {'$project':{'name':1}}\n",
    "]\n",
    "query_result=list(collection.aggregate(pipeline))\n",
    "len(query_result)"
   ]
  },
  {
   "cell_type": "markdown",
   "metadata": {},
   "source": [
    "In particular, I want to organize names in English and all kinds of Chinese, since those two languages are most frequently recorded:"
   ]
  },
  {
   "cell_type": "code",
   "execution_count": 15,
   "metadata": {
    "collapsed": true
   },
   "outputs": [],
   "source": [
    "def name_set(query_result):\n",
    "    '''\n",
    "    Args:\n",
    "        query_result: a MongoDB aggregate query result\n",
    "    Returns:\n",
    "        a dictionary with the counts of name field of the query result\n",
    "    '''\n",
    "    result=defaultdict(int)\n",
    "    for item in query_result:\n",
    "        for key in item['name']:\n",
    "            result[key]+=1\n",
    "    return result\n",
    "\n",
    "def find_zh_py_en(query_result):\n",
    "    '''\n",
    "    Args:\n",
    "        query_result: a MongoDB aggregate query result\n",
    "    Returns:\n",
    "        a dictionary of sets, with field names categorized into Chinese, Chinese Pinyin and English \n",
    "    \n",
    "    '''\n",
    "    name_keys=name_set(query_result).keys()\n",
    "    zh=[]\n",
    "    en=[]\n",
    "    py=[]\n",
    "    for key in name_keys:\n",
    "        if re.compile(r'zh').search(key):\n",
    "            zh.append(key)\n",
    "        if (re.compile(r'py').search(key)) or (re.compile(r'pinyin').search(key)):\n",
    "            py.append(key)\n",
    "        if re.compile(r'en').search(key):\n",
    "            en.append(key)\n",
    "    return {'zh':set(zh),'py':set(py),'en':set(en)}"
   ]
  },
  {
   "cell_type": "code",
   "execution_count": 16,
   "metadata": {
    "collapsed": false
   },
   "outputs": [
    {
     "data": {
      "text/plain": [
       "{'en': {'UN_en', 'en'},\n",
       " 'py': {'bpy', 'pinyin', 'zh_pinyin', 'zh_py', 'zh_pyt'},\n",
       " 'zh': {'UN_zh',\n",
       "  'zh',\n",
       "  'zh-CN',\n",
       "  'zh-Hant-CN',\n",
       "  'zh-classical',\n",
       "  'zh-hant',\n",
       "  'zh-hant-CN',\n",
       "  'zh-min-nan',\n",
       "  'zh-simplified',\n",
       "  'zh-traditional',\n",
       "  'zh-traditonal',\n",
       "  'zh_pinyin',\n",
       "  'zh_py',\n",
       "  'zh_pyt'}}"
      ]
     },
     "execution_count": 16,
     "metadata": {},
     "output_type": "execute_result"
    }
   ],
   "source": [
    "find_zh_py_en(query_result)"
   ]
  },
  {
   "cell_type": "markdown",
   "metadata": {},
   "source": [
    "Some field names actually mean the same thing. For example: zh-traditonal is a typo, zh-traditional,zh-hant,zh-hant-CN,zh-Hant-CN,zh-classical all represent traditional Chinese. So we better rename those fields."
   ]
  },
  {
   "cell_type": "code",
   "execution_count": 17,
   "metadata": {
    "collapsed": true
   },
   "outputs": [],
   "source": [
    "en=['UN_en']\n",
    "pinyin=['bpy', 'zh_pinyin', 'zh_py', 'zh_pyt']\n",
    "zh_hant=[ 'zh-Hant-CN','zh-classical','zh-hant','zh-hant-CN','zh-traditional','zh-traditonal']\n",
    "zh_simp=['UN_zh','zh','zh-CN', 'zh-simplified']\n",
    "for item in en:\n",
    "    collection.update_many( {}, { '$rename': { \"name.\"+item: \"name.en\" }})\n",
    "for item in pinyin:\n",
    "    collection.update_many( {}, { '$rename': { \"name.\"+item: \"name.pinyin\" }})\n",
    "for item in zh_hant:\n",
    "    collection.update_many( {}, { '$rename': { \"name.\"+item: \"name.zh_hant\" }})\n",
    "for item in zh_simp:\n",
    "    collection.update_many( {}, { '$rename': { \"name.\"+item: \"name.zh_simp\" }})"
   ]
  },
  {
   "cell_type": "markdown",
   "metadata": {},
   "source": [
    "Let's run the same query again and now the name fields are well-organized:"
   ]
  },
  {
   "cell_type": "code",
   "execution_count": 18,
   "metadata": {
    "collapsed": false
   },
   "outputs": [
    {
     "data": {
      "text/plain": [
       "{'en': {'en'}, 'py': {'pinyin'}, 'zh': {'zh-min-nan', 'zh_hant', 'zh_simp'}}"
      ]
     },
     "execution_count": 18,
     "metadata": {},
     "output_type": "execute_result"
    }
   ],
   "source": [
    "pipeline=[\n",
    "    {'$match':{'name':{'$exists':1}}},\n",
    "    {'$project':{'name':1}}\n",
    "]\n",
    "query_result=list(collection.aggregate(pipeline))\n",
    "find_zh_py_en(query_result)"
   ]
  },
  {
   "cell_type": "code",
   "execution_count": 19,
   "metadata": {
    "collapsed": false
   },
   "outputs": [
    {
     "name": "stdout",
     "output_type": "stream",
     "text": [
      "Simplified Chinese: 93275\n",
      "English: 44866\n",
      "Chinese Pinyin: 4796\n",
      "Traditional Chinese: 1052\n"
     ]
    }
   ],
   "source": [
    "name_count=name_set(query_result)\n",
    "print('Simplified Chinese:',name_count['zh_simp'])\n",
    "print('English:',name_count['en'])\n",
    "print('Chinese Pinyin:',name_count['pinyin'])\n",
    "print('Traditional Chinese:',name_count['zh_hant'])"
   ]
  },
  {
   "cell_type": "markdown",
   "metadata": {},
   "source": [
    "Next we are going to clean 'source':"
   ]
  },
  {
   "cell_type": "code",
   "execution_count": 20,
   "metadata": {
    "collapsed": false
   },
   "outputs": [
    {
     "data": {
      "text/plain": [
       "[{'_id': 'PGS', 'count': 87342},\n",
       " {'_id': 'Bing', 'count': 37504},\n",
       " {'_id': 'GPS', 'count': 6650},\n",
       " {'_id': 'Yahoo', 'count': 643},\n",
       " {'_id': 'survey', 'count': 534},\n",
       " {'_id': 'osm-gpx', 'count': 471},\n",
       " {'_id': 'interpolation', 'count': 319},\n",
       " {'_id': 'GNS', 'count': 279},\n",
       " {'_id': 'estimation', 'count': 211},\n",
       " {'_id': 'GISmaps/std', 'count': 156},\n",
       " {'_id': \"potlatch's P-key\", 'count': 150},\n",
       " {'_id': 'landsat', 'count': 147},\n",
       " {'_id': 'Landsat', 'count': 138},\n",
       " {'_id': 'Lakewalker / Landsat', 'count': 106},\n",
       " {'_id': 'Survey', 'count': 105},\n",
       " {'_id': 'photograph', 'count': 93},\n",
       " {'_id': 'estimated', 'count': 83},\n",
       " {'_id': 'extrapolation', 'count': 68},\n",
       " {'_id': 'Landsat Imagery', 'count': 64},\n",
       " {'_id': 'Mapbox', 'count': 62}]"
      ]
     },
     "execution_count": 20,
     "metadata": {},
     "output_type": "execute_result"
    }
   ],
   "source": [
    "pipeline=[\n",
    "    {'$match':{'source':{'$exists':1}}},\n",
    "    {'$group':{'_id':'$source','count':{'$sum':1}}},\n",
    "    {'$sort':{'count':-1}},\n",
    "    {'$limit':20}\n",
    "]\n",
    "list(collection.aggregate(pipeline))"
   ]
  },
  {
   "cell_type": "markdown",
   "metadata": {},
   "source": [
    "Seems we can further group 'Lansat', 'landsat', 'Landsat Imagery' together. We can also group words meaning 'estimation' together."
   ]
  },
  {
   "cell_type": "code",
   "execution_count": 21,
   "metadata": {
    "collapsed": false
   },
   "outputs": [
    {
     "data": {
      "text/plain": [
       "<pymongo.results.UpdateResult at 0x2536a7f9120>"
      ]
     },
     "execution_count": 21,
     "metadata": {},
     "output_type": "execute_result"
    }
   ],
   "source": [
    "collection.update_many({'source':{'$in':['landsat','Landsat Imagery']}},{'$set':{'source':'Landsat'}})\n",
    "collection.update_many({'source':{'$in':['interpolation','estimation','estimated','extrapolation']}},{'$set':{'source':'Estimation'}})"
   ]
  },
  {
   "cell_type": "markdown",
   "metadata": {},
   "source": [
    "Check again, now the sources are better organized:"
   ]
  },
  {
   "cell_type": "code",
   "execution_count": 22,
   "metadata": {
    "collapsed": false
   },
   "outputs": [
    {
     "data": {
      "text/plain": [
       "[{'_id': 'PGS', 'count': 87342},\n",
       " {'_id': 'Bing', 'count': 37504},\n",
       " {'_id': 'GPS', 'count': 6650},\n",
       " {'_id': 'Estimation', 'count': 681},\n",
       " {'_id': 'Yahoo', 'count': 643},\n",
       " {'_id': 'survey', 'count': 534},\n",
       " {'_id': 'osm-gpx', 'count': 471},\n",
       " {'_id': 'Landsat', 'count': 349},\n",
       " {'_id': 'GNS', 'count': 279},\n",
       " {'_id': 'GISmaps/std', 'count': 156},\n",
       " {'_id': \"potlatch's P-key\", 'count': 150},\n",
       " {'_id': 'Lakewalker / Landsat', 'count': 106},\n",
       " {'_id': 'Survey', 'count': 105},\n",
       " {'_id': 'photograph', 'count': 93},\n",
       " {'_id': 'Mapbox', 'count': 62},\n",
       " {'_id': 'China Data Center, University of Michigan', 'count': 45},\n",
       " {'_id': 'Strava', 'count': 36},\n",
       " {'_id': 'PGS & Bing', 'count': 26},\n",
       " {'_id': 'wild_guess', 'count': 22},\n",
       " {'_id': 'scanaerial', 'count': 22}]"
      ]
     },
     "execution_count": 22,
     "metadata": {},
     "output_type": "execute_result"
    }
   ],
   "source": [
    "pipeline=[\n",
    "    {'$match':{'source':{'$exists':1}}},\n",
    "    {'$group':{'_id':'$source','count':{'$sum':1}}},\n",
    "    {'$sort':{'count':-1}},\n",
    "    {'$limit':20}\n",
    "]\n",
    "list(collection.aggregate(pipeline))"
   ]
  },
  {
   "cell_type": "markdown",
   "metadata": {},
   "source": [
    "## Part 5: File summary & data exploration"
   ]
  },
  {
   "cell_type": "markdown",
   "metadata": {},
   "source": [
    "#### File size summary:"
   ]
  },
  {
   "cell_type": "code",
   "execution_count": 23,
   "metadata": {
    "collapsed": false
   },
   "outputs": [
    {
     "name": "stdout",
     "output_type": "stream",
     "text": [
      "shanghai_sample.osm: 6 M\n",
      "shanghai_sample.osm.json: 10 M\n",
      "shanghai_china.osm: 633 M\n",
      "shanghai_china.osm.json: 961 M\n"
     ]
    }
   ],
   "source": [
    "print(\"shanghai_sample.osm:\",round(os.path.getsize(\"shanghai_sample.osm\")/1024/1024),'M')\n",
    "print(\"shanghai_sample.osm.json:\",round(os.path.getsize(\"shanghai_sample.osm.json\")/1024/1024),'M')\n",
    "print(\"shanghai_china.osm:\",round(os.path.getsize(\"shanghai_china.osm\")/1024/1024),'M')\n",
    "print(\"shanghai_china.osm.json:\",round(os.path.getsize(\"shanghai_china.osm.json\")/1024/1024),'M')"
   ]
  },
  {
   "cell_type": "markdown",
   "metadata": {},
   "source": [
    "#### Document summary:"
   ]
  },
  {
   "cell_type": "code",
   "execution_count": 24,
   "metadata": {
    "collapsed": false
   },
   "outputs": [
    {
     "name": "stdout",
     "output_type": "stream",
     "text": [
      "3524981\n",
      "3136392\n",
      "385795\n"
     ]
    }
   ],
   "source": [
    "# Number of Documents:\n",
    "print(collection.find().count())\n",
    "# Number of Nodes:\n",
    "print(collection.find({'type':'node'}).count())\n",
    "# Number of Ways:\n",
    "print(collection.find({'type':'way'}).count())"
   ]
  },
  {
   "cell_type": "markdown",
   "metadata": {},
   "source": [
    "#### User summary:"
   ]
  },
  {
   "cell_type": "code",
   "execution_count": 25,
   "metadata": {
    "collapsed": false
   },
   "outputs": [
    {
     "data": {
      "text/plain": [
       "2041"
      ]
     },
     "execution_count": 25,
     "metadata": {},
     "output_type": "execute_result"
    }
   ],
   "source": [
    "# Number of Unique Users:\n",
    "len(collection.distinct('created.user'))"
   ]
  },
  {
   "cell_type": "code",
   "execution_count": 26,
   "metadata": {
    "collapsed": false
   },
   "outputs": [
    {
     "data": {
      "text/plain": [
       "[{'_id': 'Chen Jia', 'count': 661742},\n",
       " {'_id': 'aighes', 'count': 183143},\n",
       " {'_id': 'katpatuka', 'count': 137812},\n",
       " {'_id': 'XBear', 'count': 126490},\n",
       " {'_id': 'yangfl', 'count': 112884}]"
      ]
     },
     "execution_count": 26,
     "metadata": {},
     "output_type": "execute_result"
    }
   ],
   "source": [
    "# Top 5 Contributing Users:\n",
    "pipeline=[\n",
    "        {'$match':{'created.user':{'$exists':1}}},\n",
    "        {'$group':{'_id':'$created.user','count':{'$sum':1}}},\n",
    "        {'$sort':{'count':-1}},\n",
    "        {'$limit':5}\n",
    "    ]\n",
    "list(collection.aggregate(pipeline))"
   ]
  },
  {
   "cell_type": "code",
   "execution_count": 27,
   "metadata": {
    "collapsed": false
   },
   "outputs": [
    {
     "data": {
      "text/plain": [
       "408"
      ]
     },
     "execution_count": 27,
     "metadata": {},
     "output_type": "execute_result"
    }
   ],
   "source": [
    "# Number of users who only contribute once\n",
    "pipeline=[\n",
    "        {'$match':{'created.user':{'$exists':1}}},\n",
    "        {'$group':{'_id':'$created.user','count':{'$sum':1}}},\n",
    "        {'$match':{'count':{'$eq':1}}}\n",
    "    ]\n",
    "len(list(collection.aggregate(pipeline)))"
   ]
  },
  {
   "cell_type": "markdown",
   "metadata": {},
   "source": [
    "#### Additional exploration:"
   ]
  },
  {
   "cell_type": "markdown",
   "metadata": {},
   "source": [
    "Top 2 amenities are bicycle rental and parking, both of which are transportation related. It is interesting that toilet is in top 10."
   ]
  },
  {
   "cell_type": "code",
   "execution_count": 28,
   "metadata": {
    "collapsed": false
   },
   "outputs": [
    {
     "data": {
      "text/plain": [
       "[{'_id': 'bicycle_rental', 'count': 2436},\n",
       " {'_id': 'parking', 'count': 1323},\n",
       " {'_id': 'school', 'count': 1231},\n",
       " {'_id': 'restaurant', 'count': 1229},\n",
       " {'_id': 'bank', 'count': 588},\n",
       " {'_id': 'toilets', 'count': 410},\n",
       " {'_id': 'fuel', 'count': 357},\n",
       " {'_id': 'cafe', 'count': 354},\n",
       " {'_id': 'fast_food', 'count': 339},\n",
       " {'_id': 'hospital', 'count': 338}]"
      ]
     },
     "execution_count": 28,
     "metadata": {},
     "output_type": "execute_result"
    }
   ],
   "source": [
    "# Top 10 amenities\n",
    "pipeline=[\n",
    "    {'$match':{'amenity':{'$exists':1}}},\n",
    "    {'$group':{'_id':'$amenity','count':{'$sum':1}}},\n",
    "    {'$sort':{'count':-1}},\n",
    "    {'$limit':10}    \n",
    "]\n",
    "list(collection.aggregate(pipeline))"
   ]
  },
  {
   "cell_type": "markdown",
   "metadata": {},
   "source": [
    "No surprise, top 1 cuisine is Chinese food, followed by burger/pizza/chicken. Popular fast food is the same in every big city."
   ]
  },
  {
   "cell_type": "code",
   "execution_count": 30,
   "metadata": {
    "collapsed": false
   },
   "outputs": [
    {
     "data": {
      "text/plain": [
       "[{'_id': 'chinese', 'count': 161},\n",
       " {'_id': 'burger', 'count': 51},\n",
       " {'_id': 'pizza', 'count': 31},\n",
       " {'_id': 'chicken', 'count': 31},\n",
       " {'_id': 'coffee_shop', 'count': 30},\n",
       " {'_id': 'italian', 'count': 14},\n",
       " {'_id': 'japanese', 'count': 14},\n",
       " {'_id': 'american', 'count': 14},\n",
       " {'_id': 'international', 'count': 12},\n",
       " {'_id': 'asian', 'count': 12}]"
      ]
     },
     "execution_count": 30,
     "metadata": {},
     "output_type": "execute_result"
    }
   ],
   "source": [
    "pipeline=[\n",
    "    {'$match':{'cuisine':{'$exists':1}}},\n",
    "    {'$group':{'_id':'$cuisine','count':{'$sum':1}}},\n",
    "    {'$sort':{'count':-1}},\n",
    "    {'$limit':10}    \n",
    "]\n",
    "list(collection.aggregate(pipeline))"
   ]
  },
  {
   "cell_type": "markdown",
   "metadata": {},
   "source": [
    "Water and trees are most common natural objects in this city. Since the east side of shanghai is sea, coastline is also frequently marked in OSM."
   ]
  },
  {
   "cell_type": "code",
   "execution_count": 31,
   "metadata": {
    "collapsed": false
   },
   "outputs": [
    {
     "data": {
      "text/plain": [
       "[{'_id': 'water', 'count': 6288},\n",
       " {'_id': 'tree', 'count': 3454},\n",
       " {'_id': 'coastline', 'count': 1631},\n",
       " {'_id': 'wood', 'count': 986},\n",
       " {'_id': 'scrub', 'count': 124},\n",
       " {'_id': 'sand', 'count': 108},\n",
       " {'_id': 'tree_row', 'count': 80},\n",
       " {'_id': 'peak', 'count': 80},\n",
       " {'_id': 'wetland', 'count': 50},\n",
       " {'_id': 'grassland', 'count': 36}]"
      ]
     },
     "execution_count": 31,
     "metadata": {},
     "output_type": "execute_result"
    }
   ],
   "source": [
    "pipeline=[\n",
    "    {'$match':{'natural':{'$exists':1}}},\n",
    "    {'$group':{'_id':'$natural','count':{'$sum':1}}},\n",
    "    {'$sort':{'count':-1}},\n",
    "    {'$limit':10}    \n",
    "]\n",
    "list(collection.aggregate(pipeline))"
   ]
  },
  {
   "cell_type": "markdown",
   "metadata": {},
   "source": [
    "I also want to explore all those osm nodes' geographic position by plotting their latitude and longtitude and highlight restaurants in particular."
   ]
  },
  {
   "cell_type": "code",
   "execution_count": 32,
   "metadata": {
    "collapsed": true
   },
   "outputs": [],
   "source": [
    "import numpy as np\n",
    "import matplotlib.pyplot as plt\n",
    "% matplotlib inline\n",
    "plt.rcParams['figure.figsize'] = (10, 6)"
   ]
  },
  {
   "cell_type": "code",
   "execution_count": 33,
   "metadata": {
    "collapsed": true
   },
   "outputs": [],
   "source": [
    "pipeline=[\n",
    "    {'$match':{'pos':{'$exists':1}}},\n",
    "    {'$project':{'_id':0,'pos':1}}\n",
    "    ]\n",
    "    \n",
    "result=list(collection.aggregate(pipeline))"
   ]
  },
  {
   "cell_type": "code",
   "execution_count": 34,
   "metadata": {
    "collapsed": true
   },
   "outputs": [],
   "source": [
    "lat=[]\n",
    "long=[]\n",
    "for item in result:\n",
    "    lat.append(item['pos'][0])\n",
    "    long.append(item['pos'][1])\n",
    "x1=np.array(long)\n",
    "y1=np.array(lat)"
   ]
  },
  {
   "cell_type": "code",
   "execution_count": 35,
   "metadata": {
    "collapsed": true
   },
   "outputs": [],
   "source": [
    "pipeline=[\n",
    "    {'$match':{'pos':{'$exists':1},'amenity':{'$eq':'restaurant'}}},\n",
    "    {'$project':{'_id':0,'pos':1}}\n",
    "    ]    \n",
    "result=list(collection.aggregate(pipeline))"
   ]
  },
  {
   "cell_type": "code",
   "execution_count": 36,
   "metadata": {
    "collapsed": true
   },
   "outputs": [],
   "source": [
    "lat=[]\n",
    "long=[]\n",
    "for item in result:\n",
    "    lat.append(item['pos'][0])\n",
    "    long.append(item['pos'][1])\n",
    "x2=np.array(long)\n",
    "y2=np.array(lat)"
   ]
  },
  {
   "cell_type": "markdown",
   "metadata": {},
   "source": [
    "Some obvious clusters can be observed, that will be explained in the pdf report."
   ]
  },
  {
   "cell_type": "code",
   "execution_count": 37,
   "metadata": {
    "collapsed": false
   },
   "outputs": [
    {
     "data": {
      "image/png": "[encoded data removed]",
      "text/plain": [
       "<matplotlib.figure.Figure at 0x25359e73f28>"
      ]
     },
     "metadata": {},
     "output_type": "display_data"
    }
   ],
   "source": [
    "plt.plot(x1,y1,'o',alpha=0.003)\n",
    "plt.plot(x2,y2,'o',color='r',alpha=0.1)\n",
    "plt.title('Geographic distribution of all nodes (with restaurants highlighted)')\n",
    "plt.xlabel('Longtitude')\n",
    "plt.ylabel('Latitude')\n",
    "plt.show()"
   ]
  }
 ],
 "metadata": {
  "anaconda-cloud": {},
  "kernelspec": {
   "display_name": "Python [Root]",
   "language": "python",
   "name": "Python [Root]"
  },
  "language_info": {
   "codemirror_mode": {
    "name": "ipython",
    "version": 3
   },
   "file_extension": ".py",
   "mimetype": "text/x-python",
   "name": "python",
   "nbconvert_exporter": "python",
   "pygments_lexer": "ipython3",
   "version": "3.5.2"
  }
 },
 "nbformat": 4,
 "nbformat_minor": 0
}
